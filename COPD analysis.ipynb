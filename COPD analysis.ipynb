{
 "cells": [
  {
   "cell_type": "markdown",
   "id": "57a49799",
   "metadata": {},
   "source": [
    "The process began by importing the pandas library in Python to read the provided Excel file containing data on Chronic Obstructive Pulmonary Disease (COPD) death rates for the United States and Uganda in 2019. The index was converted to strings to align with the format of age groups. Dictionaries were initialized to store age-specific death rates for each country. A loop was implemented to iterate through each row of the DataFrame, extracting age group and corresponding death rates for both countries, and populating the dictionaries accordingly. It was assumed that the data in the Excel file was accurate and with no missing values.\n",
    "\n",
    "The differences in calculated death rates between the United States and Uganda are influenced by various factors including disparities in healthcare systems, socio-economic conditions, lifestyle factors, and population demographics. These disparities can lead to variations in disease prevalence, access to healthcare, and overall mortality rates between the two countries, resulting in distinct crude and age-standardized death rates despite using the same standard population for age-standardization.\n",
    "\n",
    "The age-standardized death rates provide a comparative measure of mortality between the two countries, adjusting for differences in age distributions. The higher age-standardized death rate in the United States (75549.426 per 1000 population) compared to Uganda (71845.838 per 1000 population) suggests a higher burden of COPD-related mortality in the United States, even after accounting for differences in age structures. This underscores the need for targeted public health interventions in both countries to address COPD risk factors, improve access to healthcare, and reduce mortality rates."
   ]
  },
  {
   "cell_type": "code",
   "execution_count": 1,
   "id": "c58d441a",
   "metadata": {},
   "outputs": [],
   "source": [
    "import pandas as pd"
   ]
  },
  {
   "cell_type": "code",
   "execution_count": 12,
   "id": "5b873906",
   "metadata": {},
   "outputs": [],
   "source": [
    "data = pd.read_excel('COPD.xlsx')\n",
    "# Convert the index to strings to match the age group format\n",
    "data.index = data.index.astype(str)"
   ]
  },
  {
   "cell_type": "code",
   "execution_count": 13,
   "id": "09005855",
   "metadata": {},
   "outputs": [],
   "source": [
    "# Initialize dictionaries to store age-specific death rates\n",
    "us_age_specific_death_rates = {}\n",
    "uganda_age_specific_death_rates = {}"
   ]
  },
  {
   "cell_type": "code",
   "execution_count": 15,
   "id": "21d4708f",
   "metadata": {},
   "outputs": [],
   "source": [
    "    # Iterar sobre las filas del dataframe para llenar los diccionarios\n",
    "    for index, row in data.iterrows():\n",
    "        age_group = str(row['Age group years'])\n",
    "        us_death_rate = row['Death rate, United States, 2019']\n",
    "        uganda_death_rate = row['Death rate, Uganda, 2019']\n",
    "\n",
    "        # Almacenar las tasas de mortalidad por grupo de edad para cada país\n",
    "        us_age_specific_death_rates[age_group] = us_death_rate\n",
    "        uganda_age_specific_death_rates[age_group] = uganda_death_rate"
   ]
  },
  {
   "cell_type": "code",
   "execution_count": 16,
   "id": "81f58b72",
   "metadata": {},
   "outputs": [
    {
     "name": "stdout",
     "output_type": "stream",
     "text": [
      "Age-Specific Death Rates - United States: {'0-4': 0.04, '5-9': 0.02, '10-14': 0.02, '15-19': 0.02, '20-24': 0.06, '25-29': 0.11, '30-34': 0.29, '35-39': 0.56, '40-44': 1.42, '45-49': 4.0, '50-54': 14.13, '55-59': 37.22, '60-64': 66.48, '65-69': 108.66, '70-74': 213.1, '75-79': 333.06, '80-84': 491.1, '85+': 894.45}\n",
      "Age-Specific Death Rates - Uganda: {'0-4': 0.4, '5-9': 0.17, '10-14': 0.07, '15-19': 0.23, '20-24': 0.38, '25-29': 0.4, '30-34': 0.75, '35-39': 1.11, '40-44': 2.04, '45-49': 5.51, '50-54': 13.26, '55-59': 33.25, '60-64': 69.62, '65-69': 120.78, '70-74': 229.88, '75-79': 341.06, '80-84': 529.31, '85+': 710.4}\n"
     ]
    }
   ],
   "source": [
    "print(\"Age-Specific Death Rates - United States:\", us_age_specific_death_rates)\n",
    "print(\"Age-Specific Death Rates - Uganda:\", uganda_age_specific_death_rates)"
   ]
  },
  {
   "cell_type": "code",
   "execution_count": 17,
   "id": "b2830868",
   "metadata": {},
   "outputs": [],
   "source": [
    "# Total number of deaths for both countries in 2019\n",
    "total_deaths_us = sum(us_age_specific_death_rates.values())\n",
    "total_deaths_uganda = sum(uganda_age_specific_death_rates.values())\n",
    "\n",
    "# Total population for both countries in 2019 (estimated from UN World Population Prospects 2022)\n",
    "total_population_us = 331002651  # United States\n",
    "total_population_uganda = 45741000  # Uganda"
   ]
  },
  {
   "cell_type": "code",
   "execution_count": 18,
   "id": "85d79cd1",
   "metadata": {},
   "outputs": [
    {
     "name": "stdout",
     "output_type": "stream",
     "text": [
      "Crude Death Rate (per 1000 population) - United States: 0.00653994762114458\n",
      "Crude Death Rate (per 1000 population) - Uganda: 0.04500601211167224\n"
     ]
    }
   ],
   "source": [
    "# Function to calculate crude death rate\n",
    "def calculate_crude_death_rate(total_deaths, total_population):\n",
    "    return (total_deaths / total_population) * 1000\n",
    "\n",
    "# Calculate crude death rate for both countries\n",
    "crude_death_rate_us = calculate_crude_death_rate(total_deaths_us, total_population_us)\n",
    "crude_death_rate_uganda = calculate_crude_death_rate(total_deaths_uganda, total_population_uganda)\n",
    "\n",
    "print(\"Crude Death Rate (per 1000 population) - United States:\", crude_death_rate_us)\n",
    "print(\"Crude Death Rate (per 1000 population) - Uganda:\", crude_death_rate_uganda)\n"
   ]
  },
  {
   "cell_type": "code",
   "execution_count": 19,
   "id": "833bce73",
   "metadata": {},
   "outputs": [
    {
     "name": "stdout",
     "output_type": "stream",
     "text": [
      "Age-Standardized Death Rate (per 1000 population) - United States: 75549.426\n",
      "Age-Standardized Death Rate (per 1000 population) - Uganda: 71845.838\n"
     ]
    }
   ],
   "source": [
    "# WHO Standard Population distribution (Table 1 in 'Ahmad OB, Boschi-Pinto C, Lopez AD, Murray CJ, Lozano R, Inoue M (2001)')\n",
    "# This is used for age-standardization\n",
    "standard_population = {\n",
    "    '0-4': 0.0349, '5-9': 0.0349, '10-14': 0.0349, '15-19': 0.0349, '20-24': 0.0349,\n",
    "    '25-29': 0.0349, '30-34': 0.0349, '35-39': 0.0349, '40-44': 0.0349, '45-49': 0.0349,\n",
    "    '50-54': 0.0349, '55-59': 0.0349, '60-64': 0.0349, '65-69': 0.0349,\n",
    "    '70-74': 0.0349, '75-79': 0.0349, '80-84': 0.0349, '85+': 0.0349\n",
    "}\n",
    "\n",
    "# Function to calculate age-standardized death rate\n",
    "def calculate_age_standardized_death_rate(age_specific_death_rates, standard_population):\n",
    "    age_standardized_rate = 0\n",
    "    for age_group, death_rate in age_specific_death_rates.items():\n",
    "        age_standardized_rate += (death_rate * standard_population[age_group])\n",
    "    return age_standardized_rate * 1000\n",
    "\n",
    "# Calculate age-standardized death rate for both countries\n",
    "age_standardized_death_rate_us = calculate_age_standardized_death_rate(us_age_specific_death_rates, standard_population)\n",
    "age_standardized_death_rate_uganda = calculate_age_standardized_death_rate(uganda_age_specific_death_rates, standard_population)\n",
    "\n",
    "print(\"Age-Standardized Death Rate (per 1000 population) - United States:\", age_standardized_death_rate_us)\n",
    "print(\"Age-Standardized Death Rate (per 1000 population) - Uganda:\", age_standardized_death_rate_uganda)\n"
   ]
  }
 ],
 "metadata": {
  "kernelspec": {
   "display_name": "Python 3 (ipykernel)",
   "language": "python",
   "name": "python3"
  },
  "language_info": {
   "codemirror_mode": {
    "name": "ipython",
    "version": 3
   },
   "file_extension": ".py",
   "mimetype": "text/x-python",
   "name": "python",
   "nbconvert_exporter": "python",
   "pygments_lexer": "ipython3",
   "version": "3.10.12"
  }
 },
 "nbformat": 4,
 "nbformat_minor": 5
}
